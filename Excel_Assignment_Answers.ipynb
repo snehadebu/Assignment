{
 "cells": [
  {
   "cell_type": "markdown",
   "id": "117bf76a",
   "metadata": {},
   "source": [
    "# Excel Assignment — Answers (Generated)\n",
    "\n",
    "This notebook contains each question and answer, demonstrations, and links to the generated Excel files."
   ]
  },
  {
   "cell_type": "markdown",
   "id": "ba6659e6",
   "metadata": {},
   "source": [
    "## Question 1\n",
    "**Paste vs Paste Special**\n",
    "\n",
    "Answer: Paste pastes everything; Paste Special offers options like Values, Formats, Transpose, etc."
   ]
  },
  {
   "cell_type": "markdown",
   "id": "4c73d19d",
   "metadata": {},
   "source": [
    "## Question 2\n",
    "**Freeze Panes vs Split Panes**\n",
    "\n",
    "Answer: Freeze keeps headers visible; Split creates multiple scrollable panes."
   ]
  },
  {
   "cell_type": "markdown",
   "id": "71a8c433",
   "metadata": {},
   "source": [
    "## Question 3\n",
    "**Insert row vs insert column**\n",
    "\n",
    "Answer: Rows shift down, columns shift right; can insert multiple by selecting multiple rows/columns first."
   ]
  },
  {
   "cell_type": "markdown",
   "id": "a84f5cca",
   "metadata": {},
   "source": [
    "## Question 4\n",
    "**Logical functions**\n",
    "\n",
    "Answer: IF, AND, OR, NOT, ISBLANK with examples."
   ]
  },
  {
   "cell_type": "markdown",
   "id": "5136dbca",
   "metadata": {},
   "source": [
    "## Question 5\n",
    "**XLOOKUP vs VLOOKUP**\n",
    "\n",
    "Answer: XLOOKUP is more flexible, can search left/right, supports if_not_found, and returns arrays."
   ]
  },
  {
   "cell_type": "markdown",
   "id": "491a0cd8",
   "metadata": {},
   "source": [
    "## Question 6\n",
    "Employee Data created and saved as `employee_data.xlsx`. Display below:"
   ]
  },
  {
   "cell_type": "code",
   "execution_count": null,
   "id": "22be4ee1",
   "metadata": {},
   "outputs": [],
   "source": [
    "import pandas as pd\n",
    "df = pd.read_excel(r'/mnt/data/excel_assignment_outputs/employee_data.xlsx')\n",
    "df"
   ]
  },
  {
   "cell_type": "markdown",
   "id": "d88f0d6e",
   "metadata": {},
   "source": [
    "## Question 7\n",
    "Insert/delete multiple rows/columns — UI steps; programmatic demo:"
   ]
  },
  {
   "cell_type": "code",
   "execution_count": null,
   "id": "24f535d4",
   "metadata": {},
   "outputs": [],
   "source": [
    "import pandas as pd\n",
    "df = pd.read_excel(r'/mnt/data/excel_assignment_outputs/employee_data.xlsx')\n",
    "display(df)\n",
    "blank = pd.DataFrame([[None]*len(df.columns)], columns=df.columns)\n",
    "df2 = pd.concat([df.iloc[:2], blank, df.iloc[2:]]).reset_index(drop=True)\n",
    "display(df2)"
   ]
  },
  {
   "cell_type": "markdown",
   "id": "09ee5345",
   "metadata": {},
   "source": [
    "## Question 8\n",
    "Find & Replace demonstration (replace 'Data Science' -> 'DS')."
   ]
  },
  {
   "cell_type": "code",
   "execution_count": null,
   "id": "ae76cedd",
   "metadata": {},
   "outputs": [],
   "source": [
    "import pandas as pd\n",
    "df = pd.read_excel(r'/mnt/data/excel_assignment_outputs/employee_data.xlsx')\n",
    "df_replaced = df.replace({'Data Science':'DS'})\n",
    "df_replaced.to_excel(r'/mnt/data/excel_assignment_outputs/employee_data_replaced.xlsx', index=False)\n",
    "df_replaced"
   ]
  },
  {
   "cell_type": "markdown",
   "id": "9a044ba6",
   "metadata": {},
   "source": [
    "## Question 9\n",
    "AVERAGE, MAX, MIN demonstration using `sample_numbers.xlsx`."
   ]
  },
  {
   "cell_type": "code",
   "execution_count": null,
   "id": "a3498206",
   "metadata": {},
   "outputs": [],
   "source": [
    "import pandas as pd\n",
    "nums = pd.read_excel(r'/mnt/data/excel_assignment_outputs/sample_numbers.xlsx')\n",
    "vals = nums['Values']\n",
    "vals.mean(), vals.max(), vals.min()"
   ]
  },
  {
   "cell_type": "markdown",
   "id": "71e43e8f",
   "metadata": {},
   "source": [
    "## Question 10\n",
    "Detecting and handling missing values (Go To Special, ISBLANK, COUNTBLANK).\n",
    "\n",
    "Programmatic demo and imputation saved to `missing_values_imputed.xlsx`."
   ]
  },
  {
   "cell_type": "code",
   "execution_count": null,
   "id": "aa928831",
   "metadata": {},
   "outputs": [],
   "source": [
    "import pandas as pd\n",
    "df = pd.read_excel(r'/mnt/data/excel_assignment_outputs/missing_values.xlsx')\n",
    "(df['Feature_A'].isna().sum(), df['Feature_B'].isna().sum(), df)"
   ]
  },
  {
   "cell_type": "code",
   "execution_count": null,
   "id": "79e41974",
   "metadata": {},
   "outputs": [],
   "source": [
    "import pandas as pd\n",
    "df = pd.read_excel(r'/mnt/data/excel_assignment_outputs/missing_values.xlsx')\n",
    "df_imputed = df.copy()\n",
    "df_imputed['Feature_A'] = df_imputed['Feature_A'].fillna(df_imputed['Feature_A'].mean())\n",
    "df_imputed['Feature_B'] = df_imputed['Feature_B'].fillna('Unknown')\n",
    "df_imputed.to_excel(r'/mnt/data/excel_assignment_outputs/missing_values_imputed.xlsx', index=False)\n",
    "df_imputed"
   ]
  },
  {
   "cell_type": "markdown",
   "id": "1d862988",
   "metadata": {},
   "source": [
    "### Generated files:\n",
    "\n",
    "- `employee_data.xlsx`\n",
    "- `employee_data_replaced.xlsx`\n",
    "- `sample_numbers.xlsx`\n",
    "- `missing_values.xlsx`\n",
    "- `missing_values_imputed.xlsx`"
   ]
  }
 ],
 "metadata": {},
 "nbformat": 4,
 "nbformat_minor": 5
}
