{
 "cells": [
  {
   "cell_type": "markdown",
   "id": "806bb35c",
   "metadata": {},
   "source": [
    "# Statistics Basics — Assignment Solutions"
   ]
  },
  {
   "cell_type": "markdown",
   "id": "1a99a271",
   "metadata": {},
   "source": [
    "## Question 1: Descriptive vs. Inferential Statistics"
   ]
  },
  {
   "cell_type": "markdown",
   "id": "5b205477",
   "metadata": {},
   "source": [
    "Descriptive statistics summarize and organize data you already have; they describe the sample. Typical tools include measures of central tendency (mean, median, mode), dispersion (range, variance, standard deviation), and visuals (histograms, boxplots). For example, reporting the average daily sales last month and their standard deviation is descriptive.\n",
    "\n",
    "Inferential statistics use a sample to make generalizations about a broader population, accounting for sampling variability. Common tools include confidence intervals, hypothesis tests, and regression modeling. For example, using a random sample of customers to test whether a new checkout flow increases conversion for all customers is inferential."
   ]
  },
  {
   "cell_type": "markdown",
   "id": "e151433b",
   "metadata": {},
   "source": [
    "## Question 2: Sampling; Random vs. Stratified"
   ]
  },
  {
   "cell_type": "markdown",
   "id": "c14d8f42",
   "metadata": {},
   "source": [
    "Sampling is the process of selecting a subset of individuals or observations from a larger population to draw conclusions when measuring the entire population is impractical.\n",
    "\n",
    "Random sampling: every unit in the population has a known and non‑zero chance of selection; selections are made independently. This guards against bias and supports valid inference.\n",
    "\n",
    "Stratified sampling: the population is divided into homogeneous subgroups (strata) such as region or age group, and random samples are drawn from each stratum—often proportionally. This improves precision (lower variance) and ensures representation of key subgroups compared with a simple random sample."
   ]
  },
  {
   "cell_type": "markdown",
   "id": "52538baa",
   "metadata": {},
   "source": [
    "## Question 3: Mean, Median, Mode and Importance"
   ]
  },
  {
   "cell_type": "markdown",
   "id": "e4956db6",
   "metadata": {},
   "source": [
    "Mean: arithmetic average of the values. Median: the middle value when data are sorted (or the average of the two middle values). Mode: the most frequent value(s).\n",
    "\n",
    "Why they matter: these measures summarize the ‘center’ of a distribution, each with different robustness. The mean uses all values but is sensitive to outliers; the median resists outliers/skew; the mode highlights the most typical category or value, useful for discrete data. Using them together provides a fuller picture of central tendency."
   ]
  },
  {
   "cell_type": "markdown",
   "id": "b57613fc",
   "metadata": {},
   "source": [
    "## Question 4: Skewness and Kurtosis; Positive Skew"
   ]
  },
  {
   "cell_type": "markdown",
   "id": "512a365d",
   "metadata": {},
   "source": [
    "Skewness measures asymmetry of a distribution. Positive (right) skew means a longer right tail; the mean typically exceeds the median. Negative skew is the opposite. Kurtosis measures tail heaviness/peakness relative to a normal distribution: high kurtosis indicates heavier tails and more outliers; low kurtosis indicates lighter tails.\n",
    "\n",
    "A positive skew implies that most observations are concentrated at lower values with a few large values stretching the right tail."
   ]
  },
  {
   "cell_type": "markdown",
   "id": "961f8221",
   "metadata": {},
   "source": [
    "## Question 5: Mean, Median, Mode"
   ]
  },
  {
   "cell_type": "code",
   "execution_count": null,
   "id": "a01252ee",
   "metadata": {},
   "outputs": [],
   "source": [
    "from statistics import mean, median, multimode\n",
    "\n",
    "numbers = [12, 15, 12, 18, 19, 12, 20, 22, 19, 19, 24, 24, 24, 26, 28]\n",
    "mean_value = mean(numbers)\n",
    "median_value = median(numbers)\n",
    "modes = multimode(numbers)\n",
    "\n",
    "mean_value, median_value, modes\n"
   ]
  },
  {
   "cell_type": "markdown",
   "id": "fdfa33c4",
   "metadata": {},
   "source": [
    "## Question 6: Covariance and Correlation"
   ]
  },
  {
   "cell_type": "code",
   "execution_count": null,
   "id": "79b9198a",
   "metadata": {},
   "outputs": [],
   "source": [
    "import numpy as np\n",
    "\n",
    "list_x = [10, 20, 30, 40, 50]\n",
    "list_y = [15, 25, 35, 45, 60]\n",
    "\n",
    "x = np.array(list_x, dtype=float)\n",
    "y = np.array(list_y, dtype=float)\n",
    "\n",
    "# Sample covariance\n",
    "cov_xy = np.cov(x, y, ddof=1)[0, 1]\n",
    "# Pearson correlation\n",
    "corr_xy = np.corrcoef(x, y)[0, 1]\n",
    "\n",
    "cov_xy, corr_xy\n"
   ]
  },
  {
   "cell_type": "markdown",
   "id": "84fbc17e",
   "metadata": {},
   "source": [
    "## Question 7: Boxplot and Outlier Detection"
   ]
  },
  {
   "cell_type": "code",
   "execution_count": null,
   "id": "f630cec5",
   "metadata": {},
   "outputs": [],
   "source": [
    "import numpy as np\n",
    "import matplotlib.pyplot as plt\n",
    "\n",
    "data = [12, 14, 14, 15, 18, 19, 19, 21, 22, 22, 23, 23, 24, 26, 29, 35]\n",
    "d = np.array(data, dtype=float)\n",
    "\n",
    "q1 = np.percentile(d, 25)\n",
    "q2 = np.percentile(d, 50)\n",
    "q3 = np.percentile(d, 75)\n",
    "iqr = q3 - q1\n",
    "\n",
    "lower_fence = q1 - 1.5 * iqr\n",
    "upper_fence = q3 + 1.5 * iqr\n",
    "\n",
    "outliers = [v for v in d if v < lower_fence or v > upper_fence]\n",
    "\n",
    "plt.figure()\n",
    "plt.boxplot(d, vert=True, showmeans=True)\n",
    "plt.title(\"Boxplot of Data\")\n",
    "plt.ylabel(\"Value\")\n",
    "plt.show()\n",
    "\n",
    "q1, q2, q3, iqr, lower_fence, upper_fence, outliers\n"
   ]
  },
  {
   "cell_type": "markdown",
   "id": "ef86c1aa",
   "metadata": {},
   "source": [
    "## Question 8: Exploring Ad Spend vs Sales"
   ]
  },
  {
   "cell_type": "markdown",
   "id": "1c119bf5",
   "metadata": {},
   "source": [
    "To explore the relationship between advertising spend and daily sales, first compute the covariance to see whether the variables move together (positive for same‑direction movement, negative for opposite). Then compute the Pearson correlation, which normalizes covariance by the standard deviations to give a scale‑free measure in [−1, 1]. Inspect a scatter plot and, if appropriate, fit a simple regression to quantify the expected sales change per unit of spend."
   ]
  },
  {
   "cell_type": "code",
   "execution_count": null,
   "id": "201864b5",
   "metadata": {},
   "outputs": [],
   "source": [
    "advertising_spend = [200, 250, 300, 400, 500]\n",
    "daily_sales = [2200, 2450, 2750, 3200, 4000]\n",
    "\n",
    "ads = np.array(advertising_spend, dtype=float)\n",
    "sales = np.array(daily_sales, dtype=float)\n",
    "\n",
    "corr = np.corrcoef(ads, sales)[0, 1]\n",
    "corr\n"
   ]
  },
  {
   "cell_type": "markdown",
   "id": "817ea6b6",
   "metadata": {},
   "source": [
    "## Question 9: Survey Scores — Summary & Histogram"
   ]
  },
  {
   "cell_type": "markdown",
   "id": "a2449f30",
   "metadata": {},
   "source": [
    "Start with summary statistics: mean and median for central tendency; standard deviation and interquartile range for spread; minimum/maximum to see range; and possibly skewness/kurtosis. Visualize with a histogram to view the shape and with a boxplot to spot outliers and compare groups. These together reveal clustering, spread, asymmetry, and unusual values before modeling or decisions."
   ]
  },
  {
   "cell_type": "code",
   "execution_count": null,
   "id": "630bdeb3",
   "metadata": {},
   "outputs": [],
   "source": [
    "survey_scores = [7, 8, 5, 9, 6, 7, 8, 9, 10, 4, 7, 6, 9, 8, 7]\n",
    "scores = np.array(survey_scores, dtype=float)\n",
    "\n",
    "mean_score = np.mean(scores)\n",
    "median_score = np.median(scores)\n",
    "std_score = np.std(scores, ddof=1)\n",
    "min_score = np.min(scores)\n",
    "max_score = np.max(scores)\n",
    "\n",
    "plt.figure()\n",
    "plt.hist(scores, bins='auto', edgecolor='black')\n",
    "plt.title(\"Histogram of Survey Scores\")\n",
    "plt.xlabel(\"Score (1-10)\")\n",
    "plt.ylabel(\"Frequency\")\n",
    "plt.show()\n",
    "\n",
    "mean_score, median_score, std_score, min_score, max_score\n"
   ]
  }
 ],
 "metadata": {},
 "nbformat": 4,
 "nbformat_minor": 5
}
